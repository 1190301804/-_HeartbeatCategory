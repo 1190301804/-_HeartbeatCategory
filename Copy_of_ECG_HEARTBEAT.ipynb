{
  "nbformat": 4,
  "nbformat_minor": 0,
  "metadata": {
    "colab": {
      "name": "Copy of ECG_HEARTBEAT.ipynb",
      "provenance": [],
      "collapsed_sections": [],
      "toc_visible": true
    },
    "kernelspec": {
      "display_name": "Python 3",
      "name": "python3"
    },
    "language_info": {
      "codemirror_mode": {
        "name": "ipython",
        "version": 3
      },
      "file_extension": ".py",
      "mimetype": "text/x-python",
      "name": "python",
      "nbconvert_exporter": "python",
      "pygments_lexer": "ipython3",
      "version": "3.6.2"
    },
    "accelerator": "GPU"
  },
  "cells": [
    {
      "cell_type": "code",
      "metadata": {
        "colab": {
          "base_uri": "https://localhost:8080/"
        },
        "id": "yzKrNpy7tPxf",
        "outputId": "8324403f-33a9-4022-8587-ba55af59faf7"
      },
      "source": [
        "import pandas as pd\n",
        "# 加载训练集和测试集(相对路径)\n",
        "train = pd.read_csv('train.csv')\n",
        "test = pd.read_csv('testA.csv')\n",
        "import numpy as np\n",
        "\n",
        "\n",
        "# 数据精度量化压缩\n",
        "def reduce_mem_usage(df):\n",
        "    # 处理前 数据集总内存计算\n",
        "    start_mem = df.memory_usage().sum() / 1024**2 \n",
        "    print('Memory usage of dataframe is {:.2f} MB'.format(start_mem))\n",
        "    \n",
        "    # 遍历特征列\n",
        "    for col in df.columns:\n",
        "        # 当前特征类型\n",
        "        col_type = df[col].dtype\n",
        "        # 处理 numeric 型数据\n",
        "        if col_type != object:\n",
        "            c_min = df[col].min()  # 最小值\n",
        "            c_max = df[col].max()  # 最大值\n",
        "            # int 型数据 精度转换\n",
        "            if str(col_type)[:3] == 'int':\n",
        "                if c_min > np.iinfo(np.int8).min and c_max < np.iinfo(np.int8).max:\n",
        "                    df[col] = df[col].astype(np.int8)\n",
        "                elif c_min > np.iinfo(np.int16).min and c_max < np.iinfo(np.int16).max:\n",
        "                    df[col] = df[col].astype(np.int16)\n",
        "                elif c_min > np.iinfo(np.int32).min and c_max < np.iinfo(np.int32).max:\n",
        "                    df[col] = df[col].astype(np.int32)\n",
        "                elif c_min > np.iinfo(np.int64).min and c_max < np.iinfo(np.int64).max:\n",
        "                    df[col] = df[col].astype(np.int64)  \n",
        "            # float 型数据 精度转换\n",
        "            else:\n",
        "                if c_min > np.finfo(np.float16).min and c_max < np.finfo(np.float16).max:\n",
        "                    df[col] = df[col].astype(np.float16)\n",
        "                elif c_min > np.finfo(np.float32).min and c_max < np.finfo(np.float32).max:\n",
        "                    df[col] = df[col].astype(np.float32)\n",
        "                else:\n",
        "                    df[col] = df[col].astype(np.float64)\n",
        "        # 处理 object 型数据\n",
        "        else:\n",
        "            df[col] = df[col].astype('category')  # object 转 category\n",
        "    \n",
        "    # 处理后 数据集总内存计算\n",
        "    end_mem = df.memory_usage().sum() / 1024**2 \n",
        "    print('Memory usage after optimization is: {:.2f} MB'.format(end_mem))\n",
        "    print('Decreased by {:.1f}%'.format(100 * (start_mem - end_mem) / start_mem))\n",
        "    \n",
        "    return df\n",
        "\n",
        "\n",
        "\n",
        "# 训练集特征处理与精度量化\n",
        "train_list = []\n",
        "for items in train.values:\n",
        "    train_list.append([items[0]] + [float(i) for i in (items[1].split(','))] + [items[2]])\n",
        "train = pd.DataFrame(np.array(train_list))\n",
        "train.columns = ['id'] + [str(i) for i in range(len(train_list[0])-2)] + ['label']  # 特征分离\n",
        "train = reduce_mem_usage(train)  # 精度量化\n",
        "train=train.drop([\"id\"],axis=1)\n",
        "\n",
        "# 测试集特征处理与精度量化\n",
        "test_list=[]\n",
        "for items in test.values:\n",
        "    test_list.append([items[0]] + [float(i) for i in items[1].split(',')])\n",
        "test = pd.DataFrame(np.array(test_list))\n",
        "test.columns = ['id'] + [str(i) for i in range(len(test_list[0])-1)]  # 特征分离\n",
        "test = reduce_mem_usage(test)  # 精度量化\n",
        "\n",
        "\n",
        "\n",
        "\n",
        "\n"
      ],
      "execution_count": null,
      "outputs": [
        {
          "output_type": "stream",
          "name": "stdout",
          "text": [
            "Memory usage of dataframe is 157.93 MB\n",
            "Memory usage after optimization is: 39.67 MB\n",
            "Decreased by 74.9%\n",
            "Memory usage of dataframe is 31.43 MB\n",
            "Memory usage after optimization is: 7.90 MB\n",
            "Decreased by 74.9%\n"
          ]
        }
      ]
    },
    {
      "cell_type": "markdown",
      "metadata": {
        "id": "X5px9AA1dg7F"
      },
      "source": [
        "#### 数据分布不均衡，需要进行重新采样"
      ]
    },
    {
      "cell_type": "code",
      "metadata": {
        "colab": {
          "base_uri": "https://localhost:8080/"
        },
        "id": "V6W4bSlQdg7H",
        "outputId": "abc22edd-b2a4-4017-8e0b-204327554e97"
      },
      "source": [
        "train[train.columns[-1]].value_counts()"
      ],
      "execution_count": null,
      "outputs": [
        {
          "output_type": "execute_result",
          "data": {
            "text/plain": [
              "0.0    64327\n",
              "3.0    17912\n",
              "2.0    14199\n",
              "1.0     3562\n",
              "Name: label, dtype: int64"
            ]
          },
          "metadata": {},
          "execution_count": 156
        }
      ]
    },
    {
      "cell_type": "code",
      "metadata": {
        "id": "p4cUgD3Idg7H"
      },
      "source": [
        "# from sklearn.utils import resample\n",
        "# train_1=train[train\n",
        "#         [\"label\"]==0]\n",
        "# train_2=train[train[\"label\"]==1]\n",
        "# train_3=train[train[\"label\"]==2]\n",
        "# train_4=train[train[\"label\"]==3]\n",
        "\n",
        "# train_1_upsample=resample(train_1,replace=True,n_samples=25000,random_state=123)\n",
        "# train_2_upsample=resample(train_2,replace=True,n_samples=25000,random_state=124)\n",
        "# train_3_upsample=resample(train_3,replace=True,n_samples=25000,random_state=125)\n",
        "# train_4_upsample=resample(train_4,replace=True,n_samples=25000,random_state=126)\n",
        "# ## resample 之后拼接\n",
        "# train=pd.concat([train_1_upsample,train_2_upsample,train_3_upsample,train_4_upsample])\n",
        "\n",
        "from imblearn.over_sampling import SMOTE\n",
        "smote = SMOTE(random_state=2021, n_jobs=-1)\n",
        "y_train = train['label']\n",
        "x_train = train.drop(['label'], axis=1)\n",
        "X, Y = smote.fit_resample(x_train, y_train) "
      ],
      "execution_count": null,
      "outputs": []
    },
    {
      "cell_type": "markdown",
      "metadata": {
        "id": "XOZ7Fx9Ee1Ek"
      },
      "source": [
        "# Test part"
      ]
    },
    {
      "cell_type": "code",
      "metadata": {
        "id": "uwf01kYLdg7J"
      },
      "source": [
        " from sklearn.model_selection import train_test_split"
      ],
      "execution_count": null,
      "outputs": []
    },
    {
      "cell_type": "code",
      "metadata": {
        "id": "JaD3LruRdg7J"
      },
      "source": [
        " X_train, X_test, y_train, y_test = train_test_split( X, Y, test_size=0.2, random_state=11)"
      ],
      "execution_count": null,
      "outputs": []
    },
    {
      "cell_type": "markdown",
      "metadata": {
        "id": "IEjbdIKydg7K"
      },
      "source": [
        "## 训练神经网络"
      ]
    },
    {
      "cell_type": "code",
      "metadata": {
        "id": "fVjgadowi54Y"
      },
      "source": [
        "from keras.utils.np_utils import to_categorical\n",
        "Y_train=to_categorical(y_train,4)\n",
        "Y_test=to_categorical(y_test,4)"
      ],
      "execution_count": null,
      "outputs": []
    },
    {
      "cell_type": "code",
      "metadata": {
        "id": "pYvcp69EfZPa"
      },
      "source": [
        "import numpy as np"
      ],
      "execution_count": null,
      "outputs": []
    },
    {
      "cell_type": "code",
      "metadata": {
        "id": "HTHjZtGdjUm1"
      },
      "source": [
        "X_train =np.array(X_train).reshape(len(X_train), X_train.shape[1],1)\n",
        "X_test = np.array(X_test).reshape(len(X_test), X_test.shape[1],1)"
      ],
      "execution_count": null,
      "outputs": []
    },
    {
      "cell_type": "code",
      "metadata": {
        "colab": {
          "base_uri": "https://localhost:8080/"
        },
        "id": "ZkY9TFC9jYUy",
        "outputId": "1e17c253-06e8-45c2-8a3d-59f6b3515d5a"
      },
      "source": [
        "print(X_train.shape)\n",
        "print(X_test.shape)"
      ],
      "execution_count": null,
      "outputs": [
        {
          "output_type": "stream",
          "name": "stdout",
          "text": [
            "(205846, 205, 1)\n",
            "(51462, 205, 1)\n"
          ]
        }
      ]
    },
    {
      "cell_type": "code",
      "metadata": {
        "id": "d6-swcbudg7M"
      },
      "source": [
        "## define input size\n",
        "feature_num = X_train.shape[1]\n"
      ],
      "execution_count": null,
      "outputs": []
    },
    {
      "cell_type": "code",
      "metadata": {
        "id": "JYGEbY_Udg7N"
      },
      "source": [
        "import tensorflow\n",
        "from tensorflow.keras.models import Sequential\n",
        "from tensorflow.keras.layers import Conv1D,BatchNormalization,Flatten,MaxPool1D,Dense,Input\n",
        "from tensorflow.keras.callbacks import EarlyStopping, ModelCheckpoint\n",
        "from keras.layers import Dropout\n",
        "\n"
      ],
      "execution_count": null,
      "outputs": []
    },
    {
      "cell_type": "code",
      "metadata": {
        "id": "JhZSw0GvkKAj"
      },
      "source": [
        "\n",
        "# model=Sequential()\n",
        "# input=(feature_num,1)\n",
        "# model.add(Conv1D(32,(3),strides=(1),padding='same',activation='relu',input_shape=input))\n",
        "# model.add(BatchNormalization())\n",
        "# model.add(MaxPool1D(2))\n",
        "# model.add(Dropout(0.5))\n",
        "\n",
        "# model.add(Conv1D(64,(3),strides=(1),padding='same',activation='relu'))\n",
        "# model.add(BatchNormalization())\n",
        "# model.add(MaxPool1D(2))\n",
        "# model.add(Dropout(0.5))\n",
        "\n",
        "# model.add(Conv1D(64,(3),strides=(1),padding='same',activation='relu'))\n",
        "# model.add(BatchNormalization())\n",
        "# model.add(MaxPool1D(2))\n",
        "# model.add(Dropout(0.5))\n",
        "\n",
        "# model.add(Flatten())\n",
        "\n",
        "# model.add(Dense(512,activation='relu', kernel_initializer='he_normal'))\n",
        "# model.add(Dense(4,activation='softmax'))\n",
        "\n",
        "\n",
        "model=Sequential()\n",
        "input=(feature_num,1)\n",
        "\n",
        "\n",
        "model.add(Conv1D(16,(3),strides=(1),padding='same',activation='relu',input_shape=input))\n",
        "model.add(Conv1D(32,(3),strides=(1),dilation_rate=2,padding='same',activation='relu'))\n",
        "model.add(Conv1D(64,(3),strides=(1),dilation_rate=2,padding='same',activation='relu'))\n",
        "model.add(Conv1D(64,(3),strides=(1),dilation_rate=2,padding='same',activation='relu'))\n",
        "model.add(MaxPool1D(3,2,padding='same'))\n",
        "\n",
        "model.add(Conv1D(128,(5),dilation_rate=2,padding='same',activation='relu'))\n",
        "model.add(Conv1D(128,(5),dilation_rate=2,padding='same',activation='relu'))\n",
        "model.add(MaxPool1D(3,2,padding='same'))\n",
        "\n",
        "model.add(Dropout(0.5))\n",
        "model.add(Flatten())\n",
        "\n",
        "model.add(Dense(256,activation='relu', kernel_initializer='he_normal'))\n",
        "model.add(Dense(4,activation='softmax'))\n"
      ],
      "execution_count": null,
      "outputs": []
    },
    {
      "cell_type": "code",
      "metadata": {
        "colab": {
          "base_uri": "https://localhost:8080/"
        },
        "id": "BRnYmxdekofB",
        "outputId": "6bce536c-fb40-4928-be40-86843e89fe34"
      },
      "source": [
        "model.summary()"
      ],
      "execution_count": null,
      "outputs": [
        {
          "output_type": "stream",
          "name": "stdout",
          "text": [
            "Model: \"sequential_24\"\n",
            "_________________________________________________________________\n",
            " Layer (type)                Output Shape              Param #   \n",
            "=================================================================\n",
            " conv1d_87 (Conv1D)          (None, 205, 16)           64        \n",
            "                                                                 \n",
            " conv1d_88 (Conv1D)          (None, 205, 32)           1568      \n",
            "                                                                 \n",
            " conv1d_89 (Conv1D)          (None, 205, 64)           6208      \n",
            "                                                                 \n",
            " conv1d_90 (Conv1D)          (None, 205, 64)           12352     \n",
            "                                                                 \n",
            " max_pooling1d_41 (MaxPoolin  (None, 103, 64)          0         \n",
            " g1D)                                                            \n",
            "                                                                 \n",
            " conv1d_91 (Conv1D)          (None, 103, 128)          41088     \n",
            "                                                                 \n",
            " conv1d_92 (Conv1D)          (None, 103, 128)          82048     \n",
            "                                                                 \n",
            " max_pooling1d_42 (MaxPoolin  (None, 52, 128)          0         \n",
            " g1D)                                                            \n",
            "                                                                 \n",
            " dropout_22 (Dropout)        (None, 52, 128)           0         \n",
            "                                                                 \n",
            " flatten_17 (Flatten)        (None, 6656)              0         \n",
            "                                                                 \n",
            " dense_34 (Dense)            (None, 256)               1704192   \n",
            "                                                                 \n",
            " dense_35 (Dense)            (None, 4)                 1028      \n",
            "                                                                 \n",
            "=================================================================\n",
            "Total params: 1,848,548\n",
            "Trainable params: 1,848,548\n",
            "Non-trainable params: 0\n",
            "_________________________________________________________________\n"
          ]
        }
      ]
    },
    {
      "cell_type": "code",
      "metadata": {
        "id": "DPrk2BS3sIUW"
      },
      "source": [
        "model.compile(optimizer='adam',loss='categorical_crossentropy',metrics=['accuracy'])"
      ],
      "execution_count": null,
      "outputs": []
    },
    {
      "cell_type": "code",
      "metadata": {
        "colab": {
          "base_uri": "https://localhost:8080/"
        },
        "id": "3gU1JKEDscKL",
        "outputId": "6ad3de3e-05e7-48ae-82bf-65ca477707f7"
      },
      "source": [
        "callbacks = [EarlyStopping(monitor='val_loss', patience=8),\n",
        "             ModelCheckpoint(filepath='best_model.h5', monitor='val_loss', save_best_only=True)]\n",
        "\n",
        "history=model.fit(X_train, Y_train,epochs=30,callbacks=callbacks, batch_size=64,validation_data=(X_test,Y_test))"
      ],
      "execution_count": null,
      "outputs": [
        {
          "output_type": "stream",
          "name": "stdout",
          "text": [
            "Epoch 1/30\n",
            "3217/3217 [==============================] - 63s 19ms/step - loss: 0.1121 - accuracy: 0.9599 - val_loss: 0.0454 - val_accuracy: 0.9846\n",
            "Epoch 2/30\n",
            "3217/3217 [==============================] - 61s 19ms/step - loss: 0.0364 - accuracy: 0.9879 - val_loss: 0.0252 - val_accuracy: 0.9916\n",
            "Epoch 3/30\n",
            "3217/3217 [==============================] - 61s 19ms/step - loss: 0.0247 - accuracy: 0.9917 - val_loss: 0.0133 - val_accuracy: 0.9957\n",
            "Epoch 4/30\n",
            "3217/3217 [==============================] - 66s 21ms/step - loss: 0.0194 - accuracy: 0.9937 - val_loss: 0.0125 - val_accuracy: 0.9964\n",
            "Epoch 5/30\n",
            "3217/3217 [==============================] - 61s 19ms/step - loss: 0.0162 - accuracy: 0.9949 - val_loss: 0.0099 - val_accuracy: 0.9969\n",
            "Epoch 6/30\n",
            "3217/3217 [==============================] - 61s 19ms/step - loss: 0.0133 - accuracy: 0.9959 - val_loss: 0.0093 - val_accuracy: 0.9973\n",
            "Epoch 7/30\n",
            "3217/3217 [==============================] - 61s 19ms/step - loss: 0.0121 - accuracy: 0.9962 - val_loss: 0.0120 - val_accuracy: 0.9966\n",
            "Epoch 8/30\n",
            "3217/3217 [==============================] - 66s 21ms/step - loss: 0.0110 - accuracy: 0.9964 - val_loss: 0.0151 - val_accuracy: 0.9960\n",
            "Epoch 9/30\n",
            "3217/3217 [==============================] - 61s 19ms/step - loss: 0.0105 - accuracy: 0.9967 - val_loss: 0.0113 - val_accuracy: 0.9969\n",
            "Epoch 10/30\n",
            "3217/3217 [==============================] - 63s 19ms/step - loss: 0.0098 - accuracy: 0.9971 - val_loss: 0.0137 - val_accuracy: 0.9965\n",
            "Epoch 11/30\n",
            "3217/3217 [==============================] - 61s 19ms/step - loss: 0.0099 - accuracy: 0.9972 - val_loss: 0.0104 - val_accuracy: 0.9972\n",
            "Epoch 12/30\n",
            "3217/3217 [==============================] - 62s 19ms/step - loss: 0.0095 - accuracy: 0.9973 - val_loss: 0.0097 - val_accuracy: 0.9972\n",
            "Epoch 13/30\n",
            "3217/3217 [==============================] - 67s 21ms/step - loss: 0.0076 - accuracy: 0.9977 - val_loss: 0.0083 - val_accuracy: 0.9979\n",
            "Epoch 14/30\n",
            "3217/3217 [==============================] - 63s 19ms/step - loss: 0.0084 - accuracy: 0.9975 - val_loss: 0.0072 - val_accuracy: 0.9984\n",
            "Epoch 15/30\n",
            "3217/3217 [==============================] - 67s 21ms/step - loss: 0.0074 - accuracy: 0.9978 - val_loss: 0.0130 - val_accuracy: 0.9976\n",
            "Epoch 16/30\n",
            "3217/3217 [==============================] - 67s 21ms/step - loss: 0.0079 - accuracy: 0.9979 - val_loss: 0.0075 - val_accuracy: 0.9981\n",
            "Epoch 17/30\n",
            "3217/3217 [==============================] - 62s 19ms/step - loss: 0.0077 - accuracy: 0.9977 - val_loss: 0.0094 - val_accuracy: 0.9980\n",
            "Epoch 18/30\n",
            "3217/3217 [==============================] - 62s 19ms/step - loss: 0.0073 - accuracy: 0.9980 - val_loss: 0.0091 - val_accuracy: 0.9980\n",
            "Epoch 19/30\n",
            "3217/3217 [==============================] - 61s 19ms/step - loss: 0.0067 - accuracy: 0.9981 - val_loss: 0.0094 - val_accuracy: 0.9981\n",
            "Epoch 20/30\n",
            "3217/3217 [==============================] - 62s 19ms/step - loss: 0.0075 - accuracy: 0.9980 - val_loss: 0.0090 - val_accuracy: 0.9980\n",
            "Epoch 21/30\n",
            "3217/3217 [==============================] - 61s 19ms/step - loss: 0.0068 - accuracy: 0.9983 - val_loss: 0.0097 - val_accuracy: 0.9980\n",
            "Epoch 22/30\n",
            "3217/3217 [==============================] - 62s 19ms/step - loss: 0.0067 - accuracy: 0.9982 - val_loss: 0.0100 - val_accuracy: 0.9981\n"
          ]
        }
      ]
    },
    {
      "cell_type": "code",
      "metadata": {
        "colab": {
          "base_uri": "https://localhost:8080/"
        },
        "id": "kN-SjyoVdg7O",
        "outputId": "1e600fad-3e32-439d-ae34-397b07b6569d"
      },
      "source": [
        "print(1)"
      ],
      "execution_count": null,
      "outputs": [
        {
          "output_type": "stream",
          "name": "stdout",
          "text": [
            "1\n"
          ]
        }
      ]
    },
    {
      "cell_type": "code",
      "metadata": {
        "colab": {
          "base_uri": "https://localhost:8080/",
          "height": 295
        },
        "id": "56zKB91Cs9OZ",
        "outputId": "99c81a5b-150b-4475-e981-498c999bc75c"
      },
      "source": [
        "import matplotlib.pyplot as plt\n",
        "y_pred=model.predict(X_test)\n",
        "fig1, ax_acc = plt.subplots()\n",
        "plt.plot(history.history['accuracy'])\n",
        "plt.plot(history.history['val_accuracy'])\n",
        "plt.xlabel('Epoch')\n",
        "plt.ylabel('Accuracy')\n",
        "plt.title('Model - Accuracy')\n",
        "plt.legend(['Training', 'Validation'], loc='lower right')\n",
        "plt.show()"
      ],
      "execution_count": null,
      "outputs": [
        {
          "output_type": "display_data",
          "data": {
            "image/png": "[encoded data removed]",
            "text/plain": [
              "<Figure size 432x288 with 1 Axes>"
            ]
          },
          "metadata": {
            "needs_background": "light"
          }
        }
      ]
    },
    {
      "cell_type": "code",
      "metadata": {
        "id": "hpRkcqTX8HVY"
      },
      "source": [
        "target_names=['0','1','2','3']\n",
        "import numpy as np\n",
        "from sklearn.metrics import confusion_matrix \n",
        "y_true=[]\n",
        "for element in Y_test:\n",
        "    y_true.append(np.argmax(element))\n",
        "prediction_proba=model.predict(X_test)\n",
        "prediction=np.argmax(prediction_proba,axis=1)\n",
        "prediction.reshape(len(prediction),1)\n",
        "cnf_matrix = confusion_matrix(y_true, prediction)"
      ],
      "execution_count": null,
      "outputs": []
    },
    {
      "cell_type": "code",
      "metadata": {
        "id": "kjg8Sa4OmKL1"
      },
      "source": [
        "import itertools\n",
        "def plot_confusion_matrix(cm, classes,\n",
        "                          normalize=False,\n",
        "                          title='Confusion matrix',\n",
        "                          cmap=plt.cm.Blues):\n",
        "  \n",
        "    if normalize:\n",
        "        cm = cm.astype('float') / cm.sum(axis=1)[:, np.newaxis]\n",
        "        print(\"Normalized confusion matrix\")\n",
        "    else:\n",
        "        print('Confusion matrix, without normalization')\n",
        "\n",
        "    plt.imshow(cm, interpolation='nearest', cmap=cmap)\n",
        "    plt.title(title)\n",
        "    plt.colorbar()\n",
        "    tick_marks = np.arange(len(classes))\n",
        "    plt.xticks(tick_marks, classes)\n",
        "    plt.yticks(tick_marks, classes)\n",
        "\n",
        "    fmt = '.2f' if normalize else 'd'\n",
        "    thresh = cm.max() / 2.\n",
        "    for i, j in itertools.product(range(cm.shape[0]), range(cm.shape[1])):\n",
        "        plt.text(j, i, format(cm[i, j], fmt),\n",
        "                 horizontalalignment=\"center\",\n",
        "                 color=\"white\" if cm[i, j] > thresh else \"black\")\n",
        "\n",
        "    plt.tight_layout()\n",
        "    plt.ylabel('True label')\n",
        "    plt.xlabel('Predicted label')\n"
      ],
      "execution_count": null,
      "outputs": []
    },
    {
      "cell_type": "code",
      "metadata": {
        "colab": {
          "base_uri": "https://localhost:8080/",
          "height": 746
        },
        "id": "bt3Pequin-eU",
        "outputId": "5b836ea1-3784-4ad9-84c9-e5a05706fd81"
      },
      "source": [
        "plt.figure(figsize=(10, 10))\n",
        "plot_confusion_matrix(cnf_matrix, classes=['N', 'S', 'V', 'F', 'Q'],normalize=True,\n",
        "                      title='Confusion matrix, with normalization')\n",
        "plt.show()"
      ],
      "execution_count": null,
      "outputs": [
        {
          "output_type": "stream",
          "name": "stdout",
          "text": [
            "Normalized confusion matrix\n"
          ]
        },
        {
          "output_type": "display_data",
          "data": {
            "image/png": "[encoded data removed]",
            "text/plain": [
              "<Figure size 720x720 with 2 Axes>"
            ]
          },
          "metadata": {
            "needs_background": "light"
          }
        }
      ]
    },
    {
      "cell_type": "markdown",
      "metadata": {
        "id": "SP967D-Cg8yh"
      },
      "source": [
        "### try to predict and save data "
      ]
    },
    {
      "cell_type": "code",
      "metadata": {
        "id": "VwMHJ7oYkL71"
      },
      "source": [
        "My_X_test=test.drop([\"id\"],axis=1)\n"
      ],
      "execution_count": null,
      "outputs": []
    },
    {
      "cell_type": "code",
      "metadata": {
        "colab": {
          "base_uri": "https://localhost:8080/"
        },
        "id": "nq6eBfFboFlu",
        "outputId": "ae029553-40a4-482d-d981-5bfd7bcf761c"
      },
      "source": [
        "prediction_proba=model.predict(My_X_test)\n",
        "prediction_proba"
      ],
      "execution_count": null,
      "outputs": [
        {
          "output_type": "execute_result",
          "data": {
            "text/plain": [
              "array([[1.0000000e+00, 1.2514762e-14, 7.6562137e-17, 6.4910835e-16],\n",
              "       [2.8000056e-22, 2.4415691e-19, 1.0000000e+00, 3.3234375e-16],\n",
              "       [6.8371584e-35, 0.0000000e+00, 1.9197079e-28, 1.0000000e+00],\n",
              "       ...,\n",
              "       [2.5364534e-08, 1.8107075e-11, 1.0000000e+00, 5.1705571e-19],\n",
              "       [1.0000000e+00, 2.9100869e-17, 1.5879632e-22, 6.9124371e-24],\n",
              "       [9.8071575e-01, 1.1174953e-06, 7.1061069e-05, 1.9212022e-02]],\n",
              "      dtype=float32)"
            ]
          },
          "metadata": {},
          "execution_count": 175
        }
      ]
    },
    {
      "cell_type": "code",
      "metadata": {
        "id": "2YBJA5zNg70J"
      },
      "source": [
        "df=pd.DataFrame( prediction_proba)"
      ],
      "execution_count": null,
      "outputs": []
    },
    {
      "cell_type": "code",
      "metadata": {
        "id": "bC08GHLXhVqL"
      },
      "source": [
        "df.index.name = \"id\"\n",
        "df.columns=[\"label_0\",\"label_1\",\"label_2\",\"label_3\"]\n",
        "df.index=df.index+100000"
      ],
      "execution_count": null,
      "outputs": []
    },
    {
      "cell_type": "code",
      "metadata": {
        "colab": {
          "base_uri": "https://localhost:8080/",
          "height": 455
        },
        "id": "7JYKGwK9iMSV",
        "outputId": "9fdd6d0c-44c7-4bd3-a7ed-9f0351ad7848"
      },
      "source": [
        "df"
      ],
      "execution_count": null,
      "outputs": [
        {
          "output_type": "execute_result",
          "data": {
            "text/html": [
              "<div>\n",
              "<style scoped>\n",
              "    .dataframe tbody tr th:only-of-type {\n",
              "        vertical-align: middle;\n",
              "    }\n",
              "\n",
              "    .dataframe tbody tr th {\n",
              "        vertical-align: top;\n",
              "    }\n",
              "\n",
              "    .dataframe thead th {\n",
              "        text-align: right;\n",
              "    }\n",
              "</style>\n",
              "<table border=\"1\" class=\"dataframe\">\n",
              "  <thead>\n",
              "    <tr style=\"text-align: right;\">\n",
              "      <th></th>\n",
              "      <th>label_0</th>\n",
              "      <th>label_1</th>\n",
              "      <th>label_2</th>\n",
              "      <th>label_3</th>\n",
              "    </tr>\n",
              "    <tr>\n",
              "      <th>id</th>\n",
              "      <th></th>\n",
              "      <th></th>\n",
              "      <th></th>\n",
              "      <th></th>\n",
              "    </tr>\n",
              "  </thead>\n",
              "  <tbody>\n",
              "    <tr>\n",
              "      <th>100000</th>\n",
              "      <td>1.000000e+00</td>\n",
              "      <td>1.251476e-14</td>\n",
              "      <td>7.656214e-17</td>\n",
              "      <td>6.491083e-16</td>\n",
              "    </tr>\n",
              "    <tr>\n",
              "      <th>100001</th>\n",
              "      <td>2.800006e-22</td>\n",
              "      <td>2.441569e-19</td>\n",
              "      <td>1.000000e+00</td>\n",
              "      <td>3.323438e-16</td>\n",
              "    </tr>\n",
              "    <tr>\n",
              "      <th>100002</th>\n",
              "      <td>6.837158e-35</td>\n",
              "      <td>0.000000e+00</td>\n",
              "      <td>1.919708e-28</td>\n",
              "      <td>1.000000e+00</td>\n",
              "    </tr>\n",
              "    <tr>\n",
              "      <th>100003</th>\n",
              "      <td>1.000000e+00</td>\n",
              "      <td>1.026590e-20</td>\n",
              "      <td>7.999630e-15</td>\n",
              "      <td>1.791677e-17</td>\n",
              "    </tr>\n",
              "    <tr>\n",
              "      <th>100004</th>\n",
              "      <td>1.000000e+00</td>\n",
              "      <td>2.735011e-35</td>\n",
              "      <td>2.842503e-23</td>\n",
              "      <td>3.073114e-24</td>\n",
              "    </tr>\n",
              "    <tr>\n",
              "      <th>...</th>\n",
              "      <td>...</td>\n",
              "      <td>...</td>\n",
              "      <td>...</td>\n",
              "      <td>...</td>\n",
              "    </tr>\n",
              "    <tr>\n",
              "      <th>119995</th>\n",
              "      <td>9.999177e-01</td>\n",
              "      <td>1.414580e-06</td>\n",
              "      <td>8.087269e-05</td>\n",
              "      <td>5.266338e-14</td>\n",
              "    </tr>\n",
              "    <tr>\n",
              "      <th>119996</th>\n",
              "      <td>1.000000e+00</td>\n",
              "      <td>7.320583e-12</td>\n",
              "      <td>4.518622e-19</td>\n",
              "      <td>6.272200e-32</td>\n",
              "    </tr>\n",
              "    <tr>\n",
              "      <th>119997</th>\n",
              "      <td>2.536453e-08</td>\n",
              "      <td>1.810707e-11</td>\n",
              "      <td>1.000000e+00</td>\n",
              "      <td>5.170557e-19</td>\n",
              "    </tr>\n",
              "    <tr>\n",
              "      <th>119998</th>\n",
              "      <td>1.000000e+00</td>\n",
              "      <td>2.910087e-17</td>\n",
              "      <td>1.587963e-22</td>\n",
              "      <td>6.912437e-24</td>\n",
              "    </tr>\n",
              "    <tr>\n",
              "      <th>119999</th>\n",
              "      <td>9.807158e-01</td>\n",
              "      <td>1.117495e-06</td>\n",
              "      <td>7.106107e-05</td>\n",
              "      <td>1.921202e-02</td>\n",
              "    </tr>\n",
              "  </tbody>\n",
              "</table>\n",
              "<p>20000 rows × 4 columns</p>\n",
              "</div>"
            ],
            "text/plain": [
              "             label_0       label_1       label_2       label_3\n",
              "id                                                            \n",
              "100000  1.000000e+00  1.251476e-14  7.656214e-17  6.491083e-16\n",
              "100001  2.800006e-22  2.441569e-19  1.000000e+00  3.323438e-16\n",
              "100002  6.837158e-35  0.000000e+00  1.919708e-28  1.000000e+00\n",
              "100003  1.000000e+00  1.026590e-20  7.999630e-15  1.791677e-17\n",
              "100004  1.000000e+00  2.735011e-35  2.842503e-23  3.073114e-24\n",
              "...              ...           ...           ...           ...\n",
              "119995  9.999177e-01  1.414580e-06  8.087269e-05  5.266338e-14\n",
              "119996  1.000000e+00  7.320583e-12  4.518622e-19  6.272200e-32\n",
              "119997  2.536453e-08  1.810707e-11  1.000000e+00  5.170557e-19\n",
              "119998  1.000000e+00  2.910087e-17  1.587963e-22  6.912437e-24\n",
              "119999  9.807158e-01  1.117495e-06  7.106107e-05  1.921202e-02\n",
              "\n",
              "[20000 rows x 4 columns]"
            ]
          },
          "metadata": {},
          "execution_count": 178
        }
      ]
    },
    {
      "cell_type": "code",
      "metadata": {
        "id": "iTBypHpNiUlU"
      },
      "source": [
        "df.to_csv(\"ECG_result.csv\")"
      ],
      "execution_count": null,
      "outputs": []
    },
    {
      "cell_type": "code",
      "metadata": {
        "id": "oILWM_vJkdOq"
      },
      "source": [
        ""
      ],
      "execution_count": null,
      "outputs": []
    }
  ]
}